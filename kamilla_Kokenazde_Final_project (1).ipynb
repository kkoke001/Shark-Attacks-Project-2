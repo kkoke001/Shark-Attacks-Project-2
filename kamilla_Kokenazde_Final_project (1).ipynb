{
  "nbformat": 4,
  "nbformat_minor": 0,
  "metadata": {
    "colab": {
      "provenance": []
    },
    "kernelspec": {
      "name": "python3",
      "display_name": "Python 3"
    },
    "language_info": {
      "name": "python"
    }
  },
  "cells": [
    {
      "cell_type": "code",
      "execution_count": null,
      "metadata": {
        "colab": {
          "base_uri": "https://localhost:8080/"
        },
        "id": "XW09CteTHMVm",
        "outputId": "9ef2b93a-c37c-48a8-ad9e-2638e558fb81"
      },
      "outputs": [
        {
          "output_type": "stream",
          "name": "stdout",
          "text": [
            "Drive already mounted at /content/drive; to attempt to forcibly remount, call drive.mount(\"/content/drive\", force_remount=True).\n"
          ]
        }
      ],
      "source": [
        "from google.colab import drive\n",
        "\n",
        "drive.mount('/content/drive')"
      ]
    },
    {
      "cell_type": "code",
      "source": [
        "import pandas as pd\n",
        "import numpy as np \n"
      ],
      "metadata": {
        "id": "XimSZHTKHb_n"
      },
      "execution_count": null,
      "outputs": []
    },
    {
      "cell_type": "code",
      "source": [
        "path= \"/content/drive/MyDrive/shark_attack/GSAF5.xls.csv\"\n",
        "df= pd.read_csv(path)\n",
        "\n",
        "df.iloc[:5,:17]"
      ],
      "metadata": {
        "colab": {
          "base_uri": "https://localhost:8080/",
          "height": 530
        },
        "id": "hs4CxSl4Hurt",
        "outputId": "46c361e4-762d-41e2-884b-565d3c748a26"
      },
      "execution_count": null,
      "outputs": [
        {
          "output_type": "stream",
          "name": "stderr",
          "text": [
            "/usr/local/lib/python3.7/dist-packages/IPython/core/interactiveshell.py:3326: DtypeWarning: Columns (10,17,18,19,20,21,24) have mixed types.Specify dtype option on import or set low_memory=False.\n",
            "  exec(code_obj, self.user_global_ns, self.user_ns)\n"
          ]
        },
        {
          "output_type": "execute_result",
          "data": {
            "text/plain": [
              "   index   Case Number                  Date    Year        Type      Country  \\\n",
              "0      0    2020.02.05           05-Feb-2020  2020.0  Unprovoked          USA   \n",
              "1      1  2020.01.30.R  Reported 30-Jan-2020  2020.0    Provoked      BAHAMAS   \n",
              "2      2    2020.01.17           17-Jan-2020  2020.0  Unprovoked    AUSTRALIA   \n",
              "3      3    2020.01.16           16-Jan-2020  2020.0  Unprovoked  NEW ZEALAND   \n",
              "4      4    2020.01.13           13-Jan-2020  2020.0  Unprovoked          USA   \n",
              "\n",
              "              Area               Location                  Activity  \\\n",
              "0             Maui                    NaN  Stand-Up Paddle boarding   \n",
              "1           Exumas                    NaN                  Floating   \n",
              "2  New South Wales          Windang Beach                   Surfing   \n",
              "3        Southland            Oreti Beach                   Surfing   \n",
              "4   North Carolina  Rodanthe, Dare County                   Surfing   \n",
              "\n",
              "              Name Unnamed: 9  Age                                     Injury  \\\n",
              "0              NaN        NaN  NaN          No injury, but paddleboard bitten   \n",
              "1  Ana Bruna Avila          F   24  PROVOKED INCIDENT Scratches to left wrist   \n",
              "2   Will Schroeter          M   59          Laceration ot left ankle and foot   \n",
              "3      Jordan King          F   13                  Minor injury to lower leg   \n",
              "4     Samuel Horne          M   26                        Lacerations to foot   \n",
              "\n",
              "  Fatal (Y/N)   Time                     Species   \\\n",
              "0           N  09h40                  Tiger shark   \n",
              "1           N    NaN                          NaN   \n",
              "2           N  08h00              \"A small shark\"   \n",
              "3           N  20h30  Broadnose seven gill shark?   \n",
              "4           N  14h33                          NaN   \n",
              "\n",
              "                              Investigator or Source  \n",
              "0                    K. McMurray, TrackingSharks.com  \n",
              "1                    K. McMurray, TrackingSharks.com  \n",
              "2  B. Myatt & M. Michaelson, GSAF; K. McMurray, T...  \n",
              "3                    K. McMurray, TrackingSharks.com  \n",
              "4                                  C. Creswell, GSAF  "
            ],
            "text/html": [
              "\n",
              "  <div id=\"df-d74b91ff-3f29-4e6c-b937-7a6ac2e32268\">\n",
              "    <div class=\"colab-df-container\">\n",
              "      <div>\n",
              "<style scoped>\n",
              "    .dataframe tbody tr th:only-of-type {\n",
              "        vertical-align: middle;\n",
              "    }\n",
              "\n",
              "    .dataframe tbody tr th {\n",
              "        vertical-align: top;\n",
              "    }\n",
              "\n",
              "    .dataframe thead th {\n",
              "        text-align: right;\n",
              "    }\n",
              "</style>\n",
              "<table border=\"1\" class=\"dataframe\">\n",
              "  <thead>\n",
              "    <tr style=\"text-align: right;\">\n",
              "      <th></th>\n",
              "      <th>index</th>\n",
              "      <th>Case Number</th>\n",
              "      <th>Date</th>\n",
              "      <th>Year</th>\n",
              "      <th>Type</th>\n",
              "      <th>Country</th>\n",
              "      <th>Area</th>\n",
              "      <th>Location</th>\n",
              "      <th>Activity</th>\n",
              "      <th>Name</th>\n",
              "      <th>Unnamed: 9</th>\n",
              "      <th>Age</th>\n",
              "      <th>Injury</th>\n",
              "      <th>Fatal (Y/N)</th>\n",
              "      <th>Time</th>\n",
              "      <th>Species</th>\n",
              "      <th>Investigator or Source</th>\n",
              "    </tr>\n",
              "  </thead>\n",
              "  <tbody>\n",
              "    <tr>\n",
              "      <th>0</th>\n",
              "      <td>0</td>\n",
              "      <td>2020.02.05</td>\n",
              "      <td>05-Feb-2020</td>\n",
              "      <td>2020.0</td>\n",
              "      <td>Unprovoked</td>\n",
              "      <td>USA</td>\n",
              "      <td>Maui</td>\n",
              "      <td>NaN</td>\n",
              "      <td>Stand-Up Paddle boarding</td>\n",
              "      <td>NaN</td>\n",
              "      <td>NaN</td>\n",
              "      <td>NaN</td>\n",
              "      <td>No injury, but paddleboard bitten</td>\n",
              "      <td>N</td>\n",
              "      <td>09h40</td>\n",
              "      <td>Tiger shark</td>\n",
              "      <td>K. McMurray, TrackingSharks.com</td>\n",
              "    </tr>\n",
              "    <tr>\n",
              "      <th>1</th>\n",
              "      <td>1</td>\n",
              "      <td>2020.01.30.R</td>\n",
              "      <td>Reported 30-Jan-2020</td>\n",
              "      <td>2020.0</td>\n",
              "      <td>Provoked</td>\n",
              "      <td>BAHAMAS</td>\n",
              "      <td>Exumas</td>\n",
              "      <td>NaN</td>\n",
              "      <td>Floating</td>\n",
              "      <td>Ana Bruna Avila</td>\n",
              "      <td>F</td>\n",
              "      <td>24</td>\n",
              "      <td>PROVOKED INCIDENT Scratches to left wrist</td>\n",
              "      <td>N</td>\n",
              "      <td>NaN</td>\n",
              "      <td>NaN</td>\n",
              "      <td>K. McMurray, TrackingSharks.com</td>\n",
              "    </tr>\n",
              "    <tr>\n",
              "      <th>2</th>\n",
              "      <td>2</td>\n",
              "      <td>2020.01.17</td>\n",
              "      <td>17-Jan-2020</td>\n",
              "      <td>2020.0</td>\n",
              "      <td>Unprovoked</td>\n",
              "      <td>AUSTRALIA</td>\n",
              "      <td>New South Wales</td>\n",
              "      <td>Windang Beach</td>\n",
              "      <td>Surfing</td>\n",
              "      <td>Will Schroeter</td>\n",
              "      <td>M</td>\n",
              "      <td>59</td>\n",
              "      <td>Laceration ot left ankle and foot</td>\n",
              "      <td>N</td>\n",
              "      <td>08h00</td>\n",
              "      <td>\"A small shark\"</td>\n",
              "      <td>B. Myatt &amp; M. Michaelson, GSAF; K. McMurray, T...</td>\n",
              "    </tr>\n",
              "    <tr>\n",
              "      <th>3</th>\n",
              "      <td>3</td>\n",
              "      <td>2020.01.16</td>\n",
              "      <td>16-Jan-2020</td>\n",
              "      <td>2020.0</td>\n",
              "      <td>Unprovoked</td>\n",
              "      <td>NEW ZEALAND</td>\n",
              "      <td>Southland</td>\n",
              "      <td>Oreti Beach</td>\n",
              "      <td>Surfing</td>\n",
              "      <td>Jordan King</td>\n",
              "      <td>F</td>\n",
              "      <td>13</td>\n",
              "      <td>Minor injury to lower leg</td>\n",
              "      <td>N</td>\n",
              "      <td>20h30</td>\n",
              "      <td>Broadnose seven gill shark?</td>\n",
              "      <td>K. McMurray, TrackingSharks.com</td>\n",
              "    </tr>\n",
              "    <tr>\n",
              "      <th>4</th>\n",
              "      <td>4</td>\n",
              "      <td>2020.01.13</td>\n",
              "      <td>13-Jan-2020</td>\n",
              "      <td>2020.0</td>\n",
              "      <td>Unprovoked</td>\n",
              "      <td>USA</td>\n",
              "      <td>North Carolina</td>\n",
              "      <td>Rodanthe, Dare County</td>\n",
              "      <td>Surfing</td>\n",
              "      <td>Samuel Horne</td>\n",
              "      <td>M</td>\n",
              "      <td>26</td>\n",
              "      <td>Lacerations to foot</td>\n",
              "      <td>N</td>\n",
              "      <td>14h33</td>\n",
              "      <td>NaN</td>\n",
              "      <td>C. Creswell, GSAF</td>\n",
              "    </tr>\n",
              "  </tbody>\n",
              "</table>\n",
              "</div>\n",
              "      <button class=\"colab-df-convert\" onclick=\"convertToInteractive('df-d74b91ff-3f29-4e6c-b937-7a6ac2e32268')\"\n",
              "              title=\"Convert this dataframe to an interactive table.\"\n",
              "              style=\"display:none;\">\n",
              "        \n",
              "  <svg xmlns=\"http://www.w3.org/2000/svg\" height=\"24px\"viewBox=\"0 0 24 24\"\n",
              "       width=\"24px\">\n",
              "    <path d=\"M0 0h24v24H0V0z\" fill=\"none\"/>\n",
              "    <path d=\"M18.56 5.44l.94 2.06.94-2.06 2.06-.94-2.06-.94-.94-2.06-.94 2.06-2.06.94zm-11 1L8.5 8.5l.94-2.06 2.06-.94-2.06-.94L8.5 2.5l-.94 2.06-2.06.94zm10 10l.94 2.06.94-2.06 2.06-.94-2.06-.94-.94-2.06-.94 2.06-2.06.94z\"/><path d=\"M17.41 7.96l-1.37-1.37c-.4-.4-.92-.59-1.43-.59-.52 0-1.04.2-1.43.59L10.3 9.45l-7.72 7.72c-.78.78-.78 2.05 0 2.83L4 21.41c.39.39.9.59 1.41.59.51 0 1.02-.2 1.41-.59l7.78-7.78 2.81-2.81c.8-.78.8-2.07 0-2.86zM5.41 20L4 18.59l7.72-7.72 1.47 1.35L5.41 20z\"/>\n",
              "  </svg>\n",
              "      </button>\n",
              "      \n",
              "  <style>\n",
              "    .colab-df-container {\n",
              "      display:flex;\n",
              "      flex-wrap:wrap;\n",
              "      gap: 12px;\n",
              "    }\n",
              "\n",
              "    .colab-df-convert {\n",
              "      background-color: #E8F0FE;\n",
              "      border: none;\n",
              "      border-radius: 50%;\n",
              "      cursor: pointer;\n",
              "      display: none;\n",
              "      fill: #1967D2;\n",
              "      height: 32px;\n",
              "      padding: 0 0 0 0;\n",
              "      width: 32px;\n",
              "    }\n",
              "\n",
              "    .colab-df-convert:hover {\n",
              "      background-color: #E2EBFA;\n",
              "      box-shadow: 0px 1px 2px rgba(60, 64, 67, 0.3), 0px 1px 3px 1px rgba(60, 64, 67, 0.15);\n",
              "      fill: #174EA6;\n",
              "    }\n",
              "\n",
              "    [theme=dark] .colab-df-convert {\n",
              "      background-color: #3B4455;\n",
              "      fill: #D2E3FC;\n",
              "    }\n",
              "\n",
              "    [theme=dark] .colab-df-convert:hover {\n",
              "      background-color: #434B5C;\n",
              "      box-shadow: 0px 1px 3px 1px rgba(0, 0, 0, 0.15);\n",
              "      filter: drop-shadow(0px 1px 2px rgba(0, 0, 0, 0.3));\n",
              "      fill: #FFFFFF;\n",
              "    }\n",
              "  </style>\n",
              "\n",
              "      <script>\n",
              "        const buttonEl =\n",
              "          document.querySelector('#df-d74b91ff-3f29-4e6c-b937-7a6ac2e32268 button.colab-df-convert');\n",
              "        buttonEl.style.display =\n",
              "          google.colab.kernel.accessAllowed ? 'block' : 'none';\n",
              "\n",
              "        async function convertToInteractive(key) {\n",
              "          const element = document.querySelector('#df-d74b91ff-3f29-4e6c-b937-7a6ac2e32268');\n",
              "          const dataTable =\n",
              "            await google.colab.kernel.invokeFunction('convertToInteractive',\n",
              "                                                     [key], {});\n",
              "          if (!dataTable) return;\n",
              "\n",
              "          const docLinkHtml = 'Like what you see? Visit the ' +\n",
              "            '<a target=\"_blank\" href=https://colab.research.google.com/notebooks/data_table.ipynb>data table notebook</a>'\n",
              "            + ' to learn more about interactive tables.';\n",
              "          element.innerHTML = '';\n",
              "          dataTable['output_type'] = 'display_data';\n",
              "          await google.colab.output.renderOutput(dataTable, element);\n",
              "          const docLink = document.createElement('div');\n",
              "          docLink.innerHTML = docLinkHtml;\n",
              "          element.appendChild(docLink);\n",
              "        }\n",
              "      </script>\n",
              "    </div>\n",
              "  </div>\n",
              "  "
            ]
          },
          "metadata": {},
          "execution_count": 3
        }
      ]
    },
    {
      "cell_type": "code",
      "source": [
        "df[\"Species \"].dropna(how='any').value_counts().head(60)"
      ],
      "metadata": {
        "colab": {
          "base_uri": "https://localhost:8080/"
        },
        "id": "AfrnO_-qnzJY",
        "outputId": "40e23301-14a3-4ea3-d4da-272717f05ffe"
      },
      "execution_count": null,
      "outputs": [
        {
          "output_type": "execute_result",
          "data": {
            "text/plain": [
              "White shark                                           166\n",
              "Shark involvement prior to death was not confirmed    105\n",
              "Invalid                                               102\n",
              "Shark involvement not confirmed                        89\n",
              "Tiger shark                                            81\n",
              "Shark involvement prior to death unconfirmed           68\n",
              "Bull shark                                             53\n",
              "4' shark                                               41\n",
              "6' shark                                               40\n",
              "1.8 m [6'] shark                                       38\n",
              "Questionable incident                                  35\n",
              "Questionable                                           34\n",
              "1.5 m [5'] shark                                       33\n",
              "1.2 m [4'] shark                                       29\n",
              "3' shark                                               28\n",
              "5' shark                                               27\n",
              "4' to 5' shark                                         25\n",
              "2 m shark                                              25\n",
              "Wobbegong shark                                        24\n",
              "3 m [10'] shark                                        22\n",
              "No shark involvement                                   21\n",
              "2.4 m [8'] shark                                       20\n",
              "3' to 4' shark                                         19\n",
              "3 m shark                                              17\n",
              "Blacktip shark                                         16\n",
              "Nurse shark                                            16\n",
              "12' shark                                              16\n",
              "3.7 m [12'] shark                                      16\n",
              "1.2 m to 1.5 m [4' to 5'] shark                        15\n",
              "Blue shark                                             14\n",
              "Raggedtooth shark                                      14\n",
              "7' shark                                               14\n",
              "Mako shark                                             14\n",
              "\"a small shark\"                                        13\n",
              "Shark involvement prior to death not confirmed         13\n",
              "5 m [16.5'] white shark                                13\n",
              "1.5 m shark                                            13\n",
              "Sandtiger shark                                        12\n",
              "Bronze whaler shark                                    12\n",
              "6 m [20'] white shark                                  12\n",
              "10' shark                                              12\n",
              "Zambesi shark                                          11\n",
              "Grey nurse shark                                       11\n",
              "4 m [13'] white shark                                  10\n",
              "a small shark                                          10\n",
              "1 m shark                                              10\n",
              "Lemon shark                                            10\n",
              "Hammerhead shark                                        9\n",
              "White shark, 4 m [13']                                  9\n",
              "2.1 m [7'] shark                                        9\n",
              "2.5 m shark                                             8\n",
              "8' shark                                                8\n",
              "2' shark                                                8\n",
              "Spinner shark                                           8\n",
              "2' to 3' shark                                          8\n",
              "Unidentified species                                    8\n",
              "4 m to 5 m [13' to 16.5'] white shark                   8\n",
              "Oceanic whitetip shark                                  8\n",
              "\"small shark\"                                           8\n",
              "3 m [10'] white shark                                   8\n",
              "Name: Species , dtype: int64"
            ]
          },
          "metadata": {},
          "execution_count": 4
        }
      ]
    },
    {
      "cell_type": "code",
      "source": [
        "\n",
        "df.loc[df[\"Fatal (Y/N)\"] == \" N\", \"Fatal (Y/N)\"] = \"N\"\n",
        "df.loc[df[\"Fatal (Y/N)\"] == \"n\", \"Fatal (Y/N)\"] = \"N\"\n",
        "df.loc[df[\"Fatal (Y/N)\"] == \"F\", \"Fatal (Y/N)\"] = \"Y\"\n",
        "df.loc[df[\"Fatal (Y/N)\"] == \"y\", \"Fatal (Y/N)\"] = \"Y\"\n",
        "df.loc[df[\"Fatal (Y/N)\"] == \"2017\", \"Fatal (Y/N)\"] = \"UNKNOWN\"\n",
        "df.loc[df[\"Fatal (Y/N)\"] == \"M\", \"Fatal (Y/N)\"] = \"UNKNOWN\"\n",
        "df.loc[df[\"Fatal (Y/N)\"] == \"--M524--M3133Y\", \"Fatal (Y/N)\"] = \"UNKNOWN\"\n",
        "df[\"Fatal (Y/N)\"].value_counts()"
      ],
      "metadata": {
        "colab": {
          "base_uri": "https://localhost:8080/"
        },
        "id": "0Qfz22fi4D3Q",
        "outputId": "6a1f010f-eea0-47d1-86a8-cf89ca3a5ca9"
      },
      "execution_count": null,
      "outputs": [
        {
          "output_type": "execute_result",
          "data": {
            "text/plain": [
              "N          4439\n",
              "Y          1403\n",
              "UNKNOWN      73\n",
              "Name: Fatal (Y/N), dtype: int64"
            ]
          },
          "metadata": {},
          "execution_count": 5
        }
      ]
    },
    {
      "cell_type": "code",
      "source": [
        "# Most common Time for Fatal Injuries \n",
        "shark_attack= df[[\"Fatal (Y/N)\",\"Time\"]]\n",
        "Fatal_injuries= shark_attack[shark_attack[\"Fatal (Y/N)\"]==\"Y\"]\n",
        "Fatal_injuries= Fatal_injuries.dropna(how='any').groupby('Time').agg({\"Time\":\"count\"})\\\n",
        ".rename(columns={'Time':'Total_Numbers'}).sort_values(\"Total_Numbers\", ascending= False).reset_index()\n",
        "# Fatal_injuries.head(20)\n",
        "Fatal_injuries.loc[Fatal_injuries['Time'].str.startswith('05'),'Time']= 'Early morning'\n",
        "Fatal_injuries.loc[Fatal_injuries['Time'].str.startswith('06'),'Time']= 'Early morning'\n",
        "Fatal_injuries.loc[Fatal_injuries['Time'].str.startswith('07'),'Time']= 'Early morning'\n",
        "Fatal_injuries.loc[Fatal_injuries['Time']=='\\\"shortly before dusk\\\"','Time']= 'Early morning'\n",
        "Fatal_injuries.loc[Fatal_injuries['Time']=='Dusk','Time']= 'Early morning'\n",
        "Fatal_injuries.loc[Fatal_injuries['Time']=='Daybreak','Time']= 'Early morning'\n",
        "Fatal_injuries.loc[Fatal_injuries['Time']=='Prior to 10h37','Time']= 'Morning'\n",
        "Fatal_injuries.loc[Fatal_injuries['Time'].str.startswith('08'),'Time']= 'Morning'\n",
        "Fatal_injuries.loc[Fatal_injuries['Time'].str.startswith('09'),'Time']= 'Morning'\n",
        "Fatal_injuries.loc[Fatal_injuries['Time'].str.startswith('10'),'Time']= 'Morning'\n",
        "Fatal_injuries.loc[Fatal_injuries['Time'].str.startswith('11'),'Time']= 'Morning'\n",
        "Fatal_injuries.loc[Fatal_injuries['Time'].str.startswith('>05'),'Time']= 'Early morning'\n",
        "Fatal_injuries.loc[Fatal_injuries['Time'].str.startswith('>06'),'Time']= 'Early morning'\n",
        "Fatal_injuries.loc[Fatal_injuries['Time'].str.startswith('>07'),'Time']= 'Early morning'\n",
        "Fatal_injuries.loc[Fatal_injuries['Time'].str.contains('06h00 & 07'),'Time']= 'Early morning'\n",
        "Fatal_injuries.loc[Fatal_injuries['Time'].str.startswith('>08'),'Time']= 'Morning'\n",
        "Fatal_injuries.loc[Fatal_injuries['Time'].str.startswith('>09'),'Time']= 'Morning'\n",
        "Fatal_injuries.loc[Fatal_injuries['Time'].str.startswith('>10'),'Time']= 'Morning'\n",
        "Fatal_injuries.loc[Fatal_injuries['Time'].str.contains('ore 10h'),'Time']= 'Morning'\n",
        "Fatal_injuries.loc[Fatal_injuries['Time'].str.startswith('>11'),'Time']= 'Noon'\n",
        "Fatal_injuries.loc[Fatal_injuries['Time']=='Midnight','Time']= 'Noon'\n",
        "Fatal_injuries.loc[Fatal_injuries['Time'].str.startswith('A.M'),'Time']= 'Morning'\n",
        "Fatal_injuries.loc[Fatal_injuries['Time'].str.startswith('12'),'Time']= 'Noon'\n",
        "Fatal_injuries.loc[Fatal_injuries['Time']=='Midday','Time']= 'Noon'\n",
        "Fatal_injuries.loc[Fatal_injuries['Time'].str.startswith('>12'),'Time']= 'Early afternoon'\n",
        "Fatal_injuries.loc[Fatal_injuries['Time'].str.startswith('13'),'Time']= 'Early afternoon'\n",
        "Fatal_injuries.loc[Fatal_injuries['Time'].str.startswith('15'),'Time']= 'Late afternoon'\n",
        "Fatal_injuries.loc[Fatal_injuries['Time'].str.startswith('14'),'Time']= 'Afternoon'\n",
        "Fatal_injuries.loc[Fatal_injuries['Time'].str.startswith('16'),'Time']= 'Late afternoon'\n",
        "Fatal_injuries.loc[Fatal_injuries['Time'].str.startswith('17'),'Time']= 'Late afternoon'\n",
        "Fatal_injuries.loc[Fatal_injuries['Time']=='Late afternon','Time']= 'Late afternoon'\n",
        "Fatal_injuries.loc[Fatal_injuries['Time'].str.startswith('>17'),'Time']= 'Early evening'\n",
        "Fatal_injuries.loc[Fatal_injuries['Time'].str.startswith('P.M'),'Time']= 'Afternoon'\n",
        "Fatal_injuries.loc[Fatal_injuries['Time']== 'Mid afternoon','Time']= 'Afternoon'\n",
        "Fatal_injuries.loc[Fatal_injuries['Time'].str.startswith('18'),'Time']= 'Early evening'\n",
        "Fatal_injuries.loc[Fatal_injuries['Time']=='Nightfall','Time']= 'Early evening'\n",
        "Fatal_injuries.loc[Fatal_injuries['Time'].str.startswith('19'),'Time']= 'Evening'\n",
        "Fatal_injuries.loc[Fatal_injuries['Time'].str.startswith('20'),'Time']= 'Late evening'\n",
        "Fatal_injuries.loc[Fatal_injuries['Time'].str.startswith('21'),'Time']= 'Late evening'\n",
        "Fatal_injuries.loc[Fatal_injuries['Time']== \"\\\"Early evening\\\"\",'Time']= 'Early evening'\n",
        "Fatal_injuries.loc[Fatal_injuries['Time'].str.startswith('22'),'Time']= 'Night'\n",
        "Fatal_injuries.loc[Fatal_injuries['Time'].str.startswith('23'),'Time']= 'Night'\n",
        "Fatal_injuries.loc[Fatal_injuries['Time'].str.startswith('24'),'Time']= 'Midnight'\n",
        "Fatal_injuries.loc[Fatal_injuries['Time'].str.startswith('01'),'Time']= 'Late night'\n",
        "Fatal_injuries.loc[Fatal_injuries['Time'].str.startswith('02'),'Time']= 'Late night'\n",
        "Fatal_injuries.loc[Fatal_injuries['Time'].str.startswith('03'),'Time']= 'Late night'\n",
        "Fatal_injuries.loc[Fatal_injuries['Time'].str.startswith('04'),'Time']= 'Late night'\n",
        "Fatal_injuries.loc[Fatal_injuries['Time']== 'Dark','Time']= 'Night'\n",
        "\n",
        "Fatal_injuries.loc[Fatal_injuries['Time'].str.contains('04'),'Time']= 'Late night'\n",
        "Fatal_injuries.loc[Fatal_injuries['Time'].str.contains('03'),'Time']= 'Late night'\n",
        "Fatal_injuries.loc[Fatal_injuries['Time']=='Before daybreak','Time']= 'Late night'\n",
        "Fatal_injuries.loc[Fatal_injuries['Time']=='Shortly after midnight','Time']= 'Late night'"
      ],
      "metadata": {
        "id": "8KjhyvfPI2rb"
      },
      "execution_count": null,
      "outputs": []
    },
    {
      "cell_type": "code",
      "source": [],
      "metadata": {
        "id": "3xcke-l5v8M3"
      },
      "execution_count": null,
      "outputs": []
    },
    {
      "cell_type": "code",
      "source": [
        "deadly_time= Fatal_injuries.groupby('Time').agg({\"Total_Numbers\":\"sum\"}).sort_values(\"Total_Numbers\", ascending= False).reset_index()\n",
        "dt= deadly_time.head(10)"
      ],
      "metadata": {
        "id": "Jc_Kod_pJMXV"
      },
      "execution_count": null,
      "outputs": []
    },
    {
      "cell_type": "code",
      "source": [
        "import plotly.graph_objects as go\n",
        "fig = go.Figure(go.Scatter(\n",
        "    x = dt['Time'],\n",
        "    y = dt['Total_Numbers'],\n",
        "))\n",
        "\n",
        "fig.update_layout(\n",
        "    title = 'Most common time of the attack for fatal injuries',\n",
        "    \n",
        ")\n",
        "\n",
        "fig.show()"
      ],
      "metadata": {
        "colab": {
          "base_uri": "https://localhost:8080/",
          "height": 542
        },
        "id": "WskYfeUMtETg",
        "outputId": "0971bb49-d61d-4352-9a46-8dd4e195a846"
      },
      "execution_count": null,
      "outputs": [
        {
          "output_type": "display_data",
          "data": {
            "text/html": [
              "<html>\n",
              "<head><meta charset=\"utf-8\" /></head>\n",
              "<body>\n",
              "    <div>            <script src=\"https://cdnjs.cloudflare.com/ajax/libs/mathjax/2.7.5/MathJax.js?config=TeX-AMS-MML_SVG\"></script><script type=\"text/javascript\">if (window.MathJax) {MathJax.Hub.Config({SVG: {font: \"STIX-Web\"}});}</script>                <script type=\"text/javascript\">window.PlotlyConfig = {MathJaxConfig: 'local'};</script>\n",
              "        <script src=\"https://cdn.plot.ly/plotly-2.8.3.min.js\"></script>                <div id=\"cf23c00a-fea5-45c4-9523-a7e3481430f6\" class=\"plotly-graph-div\" style=\"height:525px; width:100%;\"></div>            <script type=\"text/javascript\">                                    window.PLOTLYENV=window.PLOTLYENV || {};                                    if (document.getElementById(\"cf23c00a-fea5-45c4-9523-a7e3481430f6\")) {                    Plotly.newPlot(                        \"cf23c00a-fea5-45c4-9523-a7e3481430f6\",                        [{\"x\":[\"Late afternoon\",\"Morning\",\"Afternoon\",\"Noon\",\"Early afternoon\",\"Early morning\",\"Night\",\"Early evening\",\"Evening\",\"Late night\"],\"y\":[130,130,72,37,32,25,23,19,16,13],\"type\":\"scatter\"}],                        {\"template\":{\"data\":{\"bar\":[{\"error_x\":{\"color\":\"#2a3f5f\"},\"error_y\":{\"color\":\"#2a3f5f\"},\"marker\":{\"line\":{\"color\":\"#E5ECF6\",\"width\":0.5},\"pattern\":{\"fillmode\":\"overlay\",\"size\":10,\"solidity\":0.2}},\"type\":\"bar\"}],\"barpolar\":[{\"marker\":{\"line\":{\"color\":\"#E5ECF6\",\"width\":0.5},\"pattern\":{\"fillmode\":\"overlay\",\"size\":10,\"solidity\":0.2}},\"type\":\"barpolar\"}],\"carpet\":[{\"aaxis\":{\"endlinecolor\":\"#2a3f5f\",\"gridcolor\":\"white\",\"linecolor\":\"white\",\"minorgridcolor\":\"white\",\"startlinecolor\":\"#2a3f5f\"},\"baxis\":{\"endlinecolor\":\"#2a3f5f\",\"gridcolor\":\"white\",\"linecolor\":\"white\",\"minorgridcolor\":\"white\",\"startlinecolor\":\"#2a3f5f\"},\"type\":\"carpet\"}],\"choropleth\":[{\"colorbar\":{\"outlinewidth\":0,\"ticks\":\"\"},\"type\":\"choropleth\"}],\"contour\":[{\"colorbar\":{\"outlinewidth\":0,\"ticks\":\"\"},\"colorscale\":[[0.0,\"#0d0887\"],[0.1111111111111111,\"#46039f\"],[0.2222222222222222,\"#7201a8\"],[0.3333333333333333,\"#9c179e\"],[0.4444444444444444,\"#bd3786\"],[0.5555555555555556,\"#d8576b\"],[0.6666666666666666,\"#ed7953\"],[0.7777777777777778,\"#fb9f3a\"],[0.8888888888888888,\"#fdca26\"],[1.0,\"#f0f921\"]],\"type\":\"contour\"}],\"contourcarpet\":[{\"colorbar\":{\"outlinewidth\":0,\"ticks\":\"\"},\"type\":\"contourcarpet\"}],\"heatmap\":[{\"colorbar\":{\"outlinewidth\":0,\"ticks\":\"\"},\"colorscale\":[[0.0,\"#0d0887\"],[0.1111111111111111,\"#46039f\"],[0.2222222222222222,\"#7201a8\"],[0.3333333333333333,\"#9c179e\"],[0.4444444444444444,\"#bd3786\"],[0.5555555555555556,\"#d8576b\"],[0.6666666666666666,\"#ed7953\"],[0.7777777777777778,\"#fb9f3a\"],[0.8888888888888888,\"#fdca26\"],[1.0,\"#f0f921\"]],\"type\":\"heatmap\"}],\"heatmapgl\":[{\"colorbar\":{\"outlinewidth\":0,\"ticks\":\"\"},\"colorscale\":[[0.0,\"#0d0887\"],[0.1111111111111111,\"#46039f\"],[0.2222222222222222,\"#7201a8\"],[0.3333333333333333,\"#9c179e\"],[0.4444444444444444,\"#bd3786\"],[0.5555555555555556,\"#d8576b\"],[0.6666666666666666,\"#ed7953\"],[0.7777777777777778,\"#fb9f3a\"],[0.8888888888888888,\"#fdca26\"],[1.0,\"#f0f921\"]],\"type\":\"heatmapgl\"}],\"histogram\":[{\"marker\":{\"pattern\":{\"fillmode\":\"overlay\",\"size\":10,\"solidity\":0.2}},\"type\":\"histogram\"}],\"histogram2d\":[{\"colorbar\":{\"outlinewidth\":0,\"ticks\":\"\"},\"colorscale\":[[0.0,\"#0d0887\"],[0.1111111111111111,\"#46039f\"],[0.2222222222222222,\"#7201a8\"],[0.3333333333333333,\"#9c179e\"],[0.4444444444444444,\"#bd3786\"],[0.5555555555555556,\"#d8576b\"],[0.6666666666666666,\"#ed7953\"],[0.7777777777777778,\"#fb9f3a\"],[0.8888888888888888,\"#fdca26\"],[1.0,\"#f0f921\"]],\"type\":\"histogram2d\"}],\"histogram2dcontour\":[{\"colorbar\":{\"outlinewidth\":0,\"ticks\":\"\"},\"colorscale\":[[0.0,\"#0d0887\"],[0.1111111111111111,\"#46039f\"],[0.2222222222222222,\"#7201a8\"],[0.3333333333333333,\"#9c179e\"],[0.4444444444444444,\"#bd3786\"],[0.5555555555555556,\"#d8576b\"],[0.6666666666666666,\"#ed7953\"],[0.7777777777777778,\"#fb9f3a\"],[0.8888888888888888,\"#fdca26\"],[1.0,\"#f0f921\"]],\"type\":\"histogram2dcontour\"}],\"mesh3d\":[{\"colorbar\":{\"outlinewidth\":0,\"ticks\":\"\"},\"type\":\"mesh3d\"}],\"parcoords\":[{\"line\":{\"colorbar\":{\"outlinewidth\":0,\"ticks\":\"\"}},\"type\":\"parcoords\"}],\"pie\":[{\"automargin\":true,\"type\":\"pie\"}],\"scatter\":[{\"marker\":{\"colorbar\":{\"outlinewidth\":0,\"ticks\":\"\"}},\"type\":\"scatter\"}],\"scatter3d\":[{\"line\":{\"colorbar\":{\"outlinewidth\":0,\"ticks\":\"\"}},\"marker\":{\"colorbar\":{\"outlinewidth\":0,\"ticks\":\"\"}},\"type\":\"scatter3d\"}],\"scattercarpet\":[{\"marker\":{\"colorbar\":{\"outlinewidth\":0,\"ticks\":\"\"}},\"type\":\"scattercarpet\"}],\"scattergeo\":[{\"marker\":{\"colorbar\":{\"outlinewidth\":0,\"ticks\":\"\"}},\"type\":\"scattergeo\"}],\"scattergl\":[{\"marker\":{\"colorbar\":{\"outlinewidth\":0,\"ticks\":\"\"}},\"type\":\"scattergl\"}],\"scattermapbox\":[{\"marker\":{\"colorbar\":{\"outlinewidth\":0,\"ticks\":\"\"}},\"type\":\"scattermapbox\"}],\"scatterpolar\":[{\"marker\":{\"colorbar\":{\"outlinewidth\":0,\"ticks\":\"\"}},\"type\":\"scatterpolar\"}],\"scatterpolargl\":[{\"marker\":{\"colorbar\":{\"outlinewidth\":0,\"ticks\":\"\"}},\"type\":\"scatterpolargl\"}],\"scatterternary\":[{\"marker\":{\"colorbar\":{\"outlinewidth\":0,\"ticks\":\"\"}},\"type\":\"scatterternary\"}],\"surface\":[{\"colorbar\":{\"outlinewidth\":0,\"ticks\":\"\"},\"colorscale\":[[0.0,\"#0d0887\"],[0.1111111111111111,\"#46039f\"],[0.2222222222222222,\"#7201a8\"],[0.3333333333333333,\"#9c179e\"],[0.4444444444444444,\"#bd3786\"],[0.5555555555555556,\"#d8576b\"],[0.6666666666666666,\"#ed7953\"],[0.7777777777777778,\"#fb9f3a\"],[0.8888888888888888,\"#fdca26\"],[1.0,\"#f0f921\"]],\"type\":\"surface\"}],\"table\":[{\"cells\":{\"fill\":{\"color\":\"#EBF0F8\"},\"line\":{\"color\":\"white\"}},\"header\":{\"fill\":{\"color\":\"#C8D4E3\"},\"line\":{\"color\":\"white\"}},\"type\":\"table\"}]},\"layout\":{\"annotationdefaults\":{\"arrowcolor\":\"#2a3f5f\",\"arrowhead\":0,\"arrowwidth\":1},\"autotypenumbers\":\"strict\",\"coloraxis\":{\"colorbar\":{\"outlinewidth\":0,\"ticks\":\"\"}},\"colorscale\":{\"diverging\":[[0,\"#8e0152\"],[0.1,\"#c51b7d\"],[0.2,\"#de77ae\"],[0.3,\"#f1b6da\"],[0.4,\"#fde0ef\"],[0.5,\"#f7f7f7\"],[0.6,\"#e6f5d0\"],[0.7,\"#b8e186\"],[0.8,\"#7fbc41\"],[0.9,\"#4d9221\"],[1,\"#276419\"]],\"sequential\":[[0.0,\"#0d0887\"],[0.1111111111111111,\"#46039f\"],[0.2222222222222222,\"#7201a8\"],[0.3333333333333333,\"#9c179e\"],[0.4444444444444444,\"#bd3786\"],[0.5555555555555556,\"#d8576b\"],[0.6666666666666666,\"#ed7953\"],[0.7777777777777778,\"#fb9f3a\"],[0.8888888888888888,\"#fdca26\"],[1.0,\"#f0f921\"]],\"sequentialminus\":[[0.0,\"#0d0887\"],[0.1111111111111111,\"#46039f\"],[0.2222222222222222,\"#7201a8\"],[0.3333333333333333,\"#9c179e\"],[0.4444444444444444,\"#bd3786\"],[0.5555555555555556,\"#d8576b\"],[0.6666666666666666,\"#ed7953\"],[0.7777777777777778,\"#fb9f3a\"],[0.8888888888888888,\"#fdca26\"],[1.0,\"#f0f921\"]]},\"colorway\":[\"#636efa\",\"#EF553B\",\"#00cc96\",\"#ab63fa\",\"#FFA15A\",\"#19d3f3\",\"#FF6692\",\"#B6E880\",\"#FF97FF\",\"#FECB52\"],\"font\":{\"color\":\"#2a3f5f\"},\"geo\":{\"bgcolor\":\"white\",\"lakecolor\":\"white\",\"landcolor\":\"#E5ECF6\",\"showlakes\":true,\"showland\":true,\"subunitcolor\":\"white\"},\"hoverlabel\":{\"align\":\"left\"},\"hovermode\":\"closest\",\"mapbox\":{\"style\":\"light\"},\"paper_bgcolor\":\"white\",\"plot_bgcolor\":\"#E5ECF6\",\"polar\":{\"angularaxis\":{\"gridcolor\":\"white\",\"linecolor\":\"white\",\"ticks\":\"\"},\"bgcolor\":\"#E5ECF6\",\"radialaxis\":{\"gridcolor\":\"white\",\"linecolor\":\"white\",\"ticks\":\"\"}},\"scene\":{\"xaxis\":{\"backgroundcolor\":\"#E5ECF6\",\"gridcolor\":\"white\",\"gridwidth\":2,\"linecolor\":\"white\",\"showbackground\":true,\"ticks\":\"\",\"zerolinecolor\":\"white\"},\"yaxis\":{\"backgroundcolor\":\"#E5ECF6\",\"gridcolor\":\"white\",\"gridwidth\":2,\"linecolor\":\"white\",\"showbackground\":true,\"ticks\":\"\",\"zerolinecolor\":\"white\"},\"zaxis\":{\"backgroundcolor\":\"#E5ECF6\",\"gridcolor\":\"white\",\"gridwidth\":2,\"linecolor\":\"white\",\"showbackground\":true,\"ticks\":\"\",\"zerolinecolor\":\"white\"}},\"shapedefaults\":{\"line\":{\"color\":\"#2a3f5f\"}},\"ternary\":{\"aaxis\":{\"gridcolor\":\"white\",\"linecolor\":\"white\",\"ticks\":\"\"},\"baxis\":{\"gridcolor\":\"white\",\"linecolor\":\"white\",\"ticks\":\"\"},\"bgcolor\":\"#E5ECF6\",\"caxis\":{\"gridcolor\":\"white\",\"linecolor\":\"white\",\"ticks\":\"\"}},\"title\":{\"x\":0.05},\"xaxis\":{\"automargin\":true,\"gridcolor\":\"white\",\"linecolor\":\"white\",\"ticks\":\"\",\"title\":{\"standoff\":15},\"zerolinecolor\":\"white\",\"zerolinewidth\":2},\"yaxis\":{\"automargin\":true,\"gridcolor\":\"white\",\"linecolor\":\"white\",\"ticks\":\"\",\"title\":{\"standoff\":15},\"zerolinecolor\":\"white\",\"zerolinewidth\":2}}},\"title\":{\"text\":\"Most common time of the attack for fatal injuries\"}},                        {\"responsive\": true}                    ).then(function(){\n",
              "                            \n",
              "var gd = document.getElementById('cf23c00a-fea5-45c4-9523-a7e3481430f6');\n",
              "var x = new MutationObserver(function (mutations, observer) {{\n",
              "        var display = window.getComputedStyle(gd).display;\n",
              "        if (!display || display === 'none') {{\n",
              "            console.log([gd, 'removed!']);\n",
              "            Plotly.purge(gd);\n",
              "            observer.disconnect();\n",
              "        }}\n",
              "}});\n",
              "\n",
              "// Listen for the removal of the full notebook cells\n",
              "var notebookContainer = gd.closest('#notebook-container');\n",
              "if (notebookContainer) {{\n",
              "    x.observe(notebookContainer, {childList: true});\n",
              "}}\n",
              "\n",
              "// Listen for the clearing of the current output cell\n",
              "var outputEl = gd.closest('.output');\n",
              "if (outputEl) {{\n",
              "    x.observe(outputEl, {childList: true});\n",
              "}}\n",
              "\n",
              "                        })                };                            </script>        </div>\n",
              "</body>\n",
              "</html>"
            ]
          },
          "metadata": {}
        }
      ]
    },
    {
      "cell_type": "code",
      "source": [
        "# species_attack_per_activity1= df[[\"Species \",\"Activity\",\"Type\"]].fillna('UNKNOWN')\\\n",
        "# .groupby([\"Species \",\"Activity\"]).agg({\"Type\":\"count\"})\\\n",
        "# .rename(columns={'Type':'Total_count'}).sort_values(\"Total_count\", ascending= False).reset_index()\n",
        "# species_attack_per_activity1.head(20)"
      ],
      "metadata": {
        "id": "B-ed6SRYQydt"
      },
      "execution_count": null,
      "outputs": []
    },
    {
      "cell_type": "code",
      "source": [
        "import sys\n",
        "!{sys.executable} -m pip install fuzzywuzzy"
      ],
      "metadata": {
        "colab": {
          "base_uri": "https://localhost:8080/"
        },
        "id": "RDj41e9xy3fS",
        "outputId": "4af722f4-b72e-4503-b716-d73c7f09c838"
      },
      "execution_count": null,
      "outputs": [
        {
          "output_type": "stream",
          "name": "stdout",
          "text": [
            "Looking in indexes: https://pypi.org/simple, https://us-python.pkg.dev/colab-wheels/public/simple/\n",
            "Requirement already satisfied: fuzzywuzzy in /usr/local/lib/python3.7/dist-packages (0.18.0)\n"
          ]
        }
      ]
    },
    {
      "cell_type": "code",
      "source": [
        "from fuzzywuzzy import fuzz\n",
        "from fuzzywuzzy import process \n",
        "\n",
        "\n",
        "df.loc[df[\"Species \"] == \"Shark involvement not confirmed \", \"Species \"] = \"UNCONFIRMED\"\n",
        "df.loc[df[\"Species \"] == \"Shark involvement prior to death was not confirmed\", \"Species \"] = \"UNCONFIRMED\"\n",
        "df.loc[df[\"Species \"] == \"Shark involvement not confirmed\", \"Species \"] = \"UNCONFIRMED\"\n",
        "df.loc[df[\"Species \"] == \"\\\"small shark\\\"\", \"Species \"] = \"small shark\"\n",
        "df.loc[df[\"Species \"].str.contains(\"small shark\",na=False), \"Species \"] = \"small shark\"\n",
        "df.loc[df[\"Species \"] == \"a small shark\", \"Species \"] = \"small shark\"\n",
        "df.loc[df[\"Species \"] == \"haler shark\", \"Species \"] = \"whaler shark\"\n",
        "df.loc[df[\"Species \"].str.contains(\"hite shark\",na=False), \"Species \"] = \"white shark\"\n",
        "df.loc[df[\"Species \"].str.contains(\"iger shark\",na=False), \"Species \"] = \"Tiger shark\"\n",
        "df.loc[df[\"Species \"].str.contains(\"ambesi shark\",na=False), \"Species \"] = \"Zambesi shark\"\n",
        "df.loc[df[\"Species \"].str.contains(\"ull shark\",na=False), \"Species \"] = \"Bull shark\"\n",
        "df.loc[df[\"Species \"].str.contains(\"aggedtooth shark\",na=False), \"Species \"] = \"Raggedtooth shark\"\n",
        "df.loc[df[\"Species \"].str.contains(\"ammerhead shark\",na=False), \"Species \"] = \"hammerhead shark\"\n",
        "df.loc[df[\"Species \"].str.contains(\"haler shark \",na=False), \"Species \"] = \"whaler shark \"\n",
        "\n",
        "\n",
        "\n"
      ],
      "metadata": {
        "colab": {
          "base_uri": "https://localhost:8080/"
        },
        "id": "gOvWODRUz-mw",
        "outputId": "a074f9b6-0ee7-4b50-d03b-9f9a5505c045"
      },
      "execution_count": null,
      "outputs": [
        {
          "output_type": "stream",
          "name": "stderr",
          "text": [
            "/usr/local/lib/python3.7/dist-packages/fuzzywuzzy/fuzz.py:11: UserWarning:\n",
            "\n",
            "Using slow pure-python SequenceMatcher. Install python-Levenshtein to remove this warning\n",
            "\n"
          ]
        }
      ]
    },
    {
      "cell_type": "code",
      "source": [],
      "metadata": {
        "id": "KgZNdRUf1Of9"
      },
      "execution_count": null,
      "outputs": []
    },
    {
      "cell_type": "code",
      "source": [
        "# df[\"Species \"].astype(str).map(lambda x: process.extractOne(x,df[\"Species \"].astype(str))[0])"
      ],
      "metadata": {
        "id": "NcwvAmet0dxh"
      },
      "execution_count": null,
      "outputs": []
    },
    {
      "cell_type": "code",
      "source": [
        "index1 = df[ (df['Species '] == 'UNCONFIRMED') | (df['Species '] == 'Questionable incident') ].index\n",
        "index2 = df[ (df['Species '] == 'Questionable') | (df['Species '] == 'No shark involvement') ].index\n",
        "index3 = df[ (df['Species '] == 'Invalid') | (df['Species '] == 'Shark involvement prior to death unconfirmed') ].index\n",
        "index4 = df[ (df['Species '] == 'Shark involvement prior to death not confirmed') | (df['Species '] == 'Unidentified species') ].index\n",
        "df.drop(index1 , inplace=True)\n",
        "df.drop(index2 , inplace=True)\n",
        "df.drop(index3 , inplace=True)\n",
        "df.drop(index4 , inplace=True)\n",
        "df[\"Species \"].value_counts().head(400)\n"
      ],
      "metadata": {
        "colab": {
          "base_uri": "https://localhost:8080/"
        },
        "id": "fdPKSFEt0ZdO",
        "outputId": "2f6db810-1e61-45f6-b238-907130d0d7f0"
      },
      "execution_count": null,
      "outputs": [
        {
          "output_type": "execute_result",
          "data": {
            "text/plain": [
              "white shark                                                                                                                                                    645\n",
              "Tiger shark                                                                                                                                                    302\n",
              "Bull shark                                                                                                                                                     181\n",
              "small shark                                                                                                                                                     54\n",
              "hammerhead shark                                                                                                                                                44\n",
              "                                                                                                                                                              ... \n",
              "Said to involve a 2.7 m [9'] shark                                                                                                                               1\n",
              "Remains recovered 5 days later                                                                                                                                   1\n",
              "A 20' shark known as \"Old Tom\"                                                                                                                                   1\n",
              "whaler shark                                                                                                                                                     1\n",
              "C. macrurus captured 48 hours after attack with tissue removed from man in its gut; species identified by G.P. Whitley, reported as C. obscurus by R. Steel      1\n",
              "Name: Species , Length: 400, dtype: int64"
            ]
          },
          "metadata": {},
          "execution_count": 13
        }
      ]
    },
    {
      "cell_type": "code",
      "source": [
        "species_attack_per_activity2= df[[\"Species \",\"Activity\",\"Type\"]].dropna(how='any')\\\n",
        ".groupby([\"Species \",\"Activity\"]).agg({\"Type\":\"count\"})\\\n",
        ".rename(columns={'Type':'Total_count'}).sort_values(\"Total_count\", ascending= False).reset_index()\n",
        "sapa= species_attack_per_activity2.head(70)"
      ],
      "metadata": {
        "id": "WSdTdLSLTfWd"
      },
      "execution_count": null,
      "outputs": []
    },
    {
      "cell_type": "code",
      "source": [],
      "metadata": {
        "id": "yN4A0wIiAEop"
      },
      "execution_count": null,
      "outputs": []
    },
    {
      "cell_type": "code",
      "source": [
        "# Deadliest Shark\n",
        "\n",
        "shark_attack2= df[[\"Species \",\"Fatal (Y/N)\"]]\n",
        "Deadliest_shark= shark_attack2[shark_attack2[\"Fatal (Y/N)\"]==\"Y\"]\n",
        "Deadliest_shark= Deadliest_shark.dropna(how='any').groupby('Species ').agg({\"Fatal (Y/N)\":\"count\"})\\\n",
        ".rename(columns={'Fatal (Y/N)':'Total_count'}).sort_values(\"Total_count\", ascending= False).reset_index()\n",
        "ds=Deadliest_shark.head(15)"
      ],
      "metadata": {
        "id": "Sk_9wBKSqBj9"
      },
      "execution_count": null,
      "outputs": []
    },
    {
      "cell_type": "code",
      "source": [
        "def Bar_plot(x,y,title,xaxis_title, yaxis_title):\n",
        "            # barchart\n",
        "        fig = go.Figure(data=[\n",
        "        go.Bar(name='20 most common words ', x=x, y=y)\n",
        "            ])\n",
        "            # Change the bar mode\n",
        "        fig.update_layout(barmode='group',\n",
        "        title=title,\n",
        "        xaxis_title=xaxis_title,\n",
        "        yaxis_title=yaxis_title,\n",
        "        font=dict(\n",
        "        family=\"Courier New, monospace\",\n",
        "        size=18,\n",
        "        color=\"RebeccaPurple\")\n",
        "        )\n",
        "        fig.show()"
      ],
      "metadata": {
        "id": "h3KrknepuXAV"
      },
      "execution_count": null,
      "outputs": []
    },
    {
      "cell_type": "code",
      "source": [
        "title='15 Most deadly sharks (most fatal)'\n",
        "xaxis=\"Deadliest Shark\"\n",
        "yaxis= \"number of deadly occurences\"\n",
        "Bar_plot(ds['Species '],ds['Total_count'],title,xaxis,yaxis)"
      ],
      "metadata": {
        "colab": {
          "base_uri": "https://localhost:8080/",
          "height": 542
        },
        "id": "VX9tlC0Svg1G",
        "outputId": "5dcaa8d0-635c-43d2-9f3a-77d076054a50"
      },
      "execution_count": null,
      "outputs": [
        {
          "output_type": "display_data",
          "data": {
            "text/html": [
              "<html>\n",
              "<head><meta charset=\"utf-8\" /></head>\n",
              "<body>\n",
              "    <div>            <script src=\"https://cdnjs.cloudflare.com/ajax/libs/mathjax/2.7.5/MathJax.js?config=TeX-AMS-MML_SVG\"></script><script type=\"text/javascript\">if (window.MathJax) {MathJax.Hub.Config({SVG: {font: \"STIX-Web\"}});}</script>                <script type=\"text/javascript\">window.PlotlyConfig = {MathJaxConfig: 'local'};</script>\n",
              "        <script src=\"https://cdn.plot.ly/plotly-2.8.3.min.js\"></script>                <div id=\"89f429e6-cfb3-4c25-8217-404ccac8b36b\" class=\"plotly-graph-div\" style=\"height:525px; width:100%;\"></div>            <script type=\"text/javascript\">                                    window.PLOTLYENV=window.PLOTLYENV || {};                                    if (document.getElementById(\"89f429e6-cfb3-4c25-8217-404ccac8b36b\")) {                    Plotly.newPlot(                        \"89f429e6-cfb3-4c25-8217-404ccac8b36b\",                        [{\"name\":\"20 most common words \",\"x\":[\"white shark\",\"Tiger shark\",\"Bull shark\",\"Zambesi shark\",\"3.7 m [12'] shark\",\"3 m [10'] shark\",\"12' shark\",\"2 m shark\",\"2.4 m [8'] shark\",\"Blue shark\",\"4.3 m [14'] shark\",\"16' shark\",\"1.8 m [6'] shark\",\"Basking shark\",\"hammerhead shark\"],\"y\":[145,77,36,9,9,8,5,4,4,4,3,3,3,2,2],\"type\":\"bar\"}],                        {\"template\":{\"data\":{\"bar\":[{\"error_x\":{\"color\":\"#2a3f5f\"},\"error_y\":{\"color\":\"#2a3f5f\"},\"marker\":{\"line\":{\"color\":\"#E5ECF6\",\"width\":0.5},\"pattern\":{\"fillmode\":\"overlay\",\"size\":10,\"solidity\":0.2}},\"type\":\"bar\"}],\"barpolar\":[{\"marker\":{\"line\":{\"color\":\"#E5ECF6\",\"width\":0.5},\"pattern\":{\"fillmode\":\"overlay\",\"size\":10,\"solidity\":0.2}},\"type\":\"barpolar\"}],\"carpet\":[{\"aaxis\":{\"endlinecolor\":\"#2a3f5f\",\"gridcolor\":\"white\",\"linecolor\":\"white\",\"minorgridcolor\":\"white\",\"startlinecolor\":\"#2a3f5f\"},\"baxis\":{\"endlinecolor\":\"#2a3f5f\",\"gridcolor\":\"white\",\"linecolor\":\"white\",\"minorgridcolor\":\"white\",\"startlinecolor\":\"#2a3f5f\"},\"type\":\"carpet\"}],\"choropleth\":[{\"colorbar\":{\"outlinewidth\":0,\"ticks\":\"\"},\"type\":\"choropleth\"}],\"contour\":[{\"colorbar\":{\"outlinewidth\":0,\"ticks\":\"\"},\"colorscale\":[[0.0,\"#0d0887\"],[0.1111111111111111,\"#46039f\"],[0.2222222222222222,\"#7201a8\"],[0.3333333333333333,\"#9c179e\"],[0.4444444444444444,\"#bd3786\"],[0.5555555555555556,\"#d8576b\"],[0.6666666666666666,\"#ed7953\"],[0.7777777777777778,\"#fb9f3a\"],[0.8888888888888888,\"#fdca26\"],[1.0,\"#f0f921\"]],\"type\":\"contour\"}],\"contourcarpet\":[{\"colorbar\":{\"outlinewidth\":0,\"ticks\":\"\"},\"type\":\"contourcarpet\"}],\"heatmap\":[{\"colorbar\":{\"outlinewidth\":0,\"ticks\":\"\"},\"colorscale\":[[0.0,\"#0d0887\"],[0.1111111111111111,\"#46039f\"],[0.2222222222222222,\"#7201a8\"],[0.3333333333333333,\"#9c179e\"],[0.4444444444444444,\"#bd3786\"],[0.5555555555555556,\"#d8576b\"],[0.6666666666666666,\"#ed7953\"],[0.7777777777777778,\"#fb9f3a\"],[0.8888888888888888,\"#fdca26\"],[1.0,\"#f0f921\"]],\"type\":\"heatmap\"}],\"heatmapgl\":[{\"colorbar\":{\"outlinewidth\":0,\"ticks\":\"\"},\"colorscale\":[[0.0,\"#0d0887\"],[0.1111111111111111,\"#46039f\"],[0.2222222222222222,\"#7201a8\"],[0.3333333333333333,\"#9c179e\"],[0.4444444444444444,\"#bd3786\"],[0.5555555555555556,\"#d8576b\"],[0.6666666666666666,\"#ed7953\"],[0.7777777777777778,\"#fb9f3a\"],[0.8888888888888888,\"#fdca26\"],[1.0,\"#f0f921\"]],\"type\":\"heatmapgl\"}],\"histogram\":[{\"marker\":{\"pattern\":{\"fillmode\":\"overlay\",\"size\":10,\"solidity\":0.2}},\"type\":\"histogram\"}],\"histogram2d\":[{\"colorbar\":{\"outlinewidth\":0,\"ticks\":\"\"},\"colorscale\":[[0.0,\"#0d0887\"],[0.1111111111111111,\"#46039f\"],[0.2222222222222222,\"#7201a8\"],[0.3333333333333333,\"#9c179e\"],[0.4444444444444444,\"#bd3786\"],[0.5555555555555556,\"#d8576b\"],[0.6666666666666666,\"#ed7953\"],[0.7777777777777778,\"#fb9f3a\"],[0.8888888888888888,\"#fdca26\"],[1.0,\"#f0f921\"]],\"type\":\"histogram2d\"}],\"histogram2dcontour\":[{\"colorbar\":{\"outlinewidth\":0,\"ticks\":\"\"},\"colorscale\":[[0.0,\"#0d0887\"],[0.1111111111111111,\"#46039f\"],[0.2222222222222222,\"#7201a8\"],[0.3333333333333333,\"#9c179e\"],[0.4444444444444444,\"#bd3786\"],[0.5555555555555556,\"#d8576b\"],[0.6666666666666666,\"#ed7953\"],[0.7777777777777778,\"#fb9f3a\"],[0.8888888888888888,\"#fdca26\"],[1.0,\"#f0f921\"]],\"type\":\"histogram2dcontour\"}],\"mesh3d\":[{\"colorbar\":{\"outlinewidth\":0,\"ticks\":\"\"},\"type\":\"mesh3d\"}],\"parcoords\":[{\"line\":{\"colorbar\":{\"outlinewidth\":0,\"ticks\":\"\"}},\"type\":\"parcoords\"}],\"pie\":[{\"automargin\":true,\"type\":\"pie\"}],\"scatter\":[{\"marker\":{\"colorbar\":{\"outlinewidth\":0,\"ticks\":\"\"}},\"type\":\"scatter\"}],\"scatter3d\":[{\"line\":{\"colorbar\":{\"outlinewidth\":0,\"ticks\":\"\"}},\"marker\":{\"colorbar\":{\"outlinewidth\":0,\"ticks\":\"\"}},\"type\":\"scatter3d\"}],\"scattercarpet\":[{\"marker\":{\"colorbar\":{\"outlinewidth\":0,\"ticks\":\"\"}},\"type\":\"scattercarpet\"}],\"scattergeo\":[{\"marker\":{\"colorbar\":{\"outlinewidth\":0,\"ticks\":\"\"}},\"type\":\"scattergeo\"}],\"scattergl\":[{\"marker\":{\"colorbar\":{\"outlinewidth\":0,\"ticks\":\"\"}},\"type\":\"scattergl\"}],\"scattermapbox\":[{\"marker\":{\"colorbar\":{\"outlinewidth\":0,\"ticks\":\"\"}},\"type\":\"scattermapbox\"}],\"scatterpolar\":[{\"marker\":{\"colorbar\":{\"outlinewidth\":0,\"ticks\":\"\"}},\"type\":\"scatterpolar\"}],\"scatterpolargl\":[{\"marker\":{\"colorbar\":{\"outlinewidth\":0,\"ticks\":\"\"}},\"type\":\"scatterpolargl\"}],\"scatterternary\":[{\"marker\":{\"colorbar\":{\"outlinewidth\":0,\"ticks\":\"\"}},\"type\":\"scatterternary\"}],\"surface\":[{\"colorbar\":{\"outlinewidth\":0,\"ticks\":\"\"},\"colorscale\":[[0.0,\"#0d0887\"],[0.1111111111111111,\"#46039f\"],[0.2222222222222222,\"#7201a8\"],[0.3333333333333333,\"#9c179e\"],[0.4444444444444444,\"#bd3786\"],[0.5555555555555556,\"#d8576b\"],[0.6666666666666666,\"#ed7953\"],[0.7777777777777778,\"#fb9f3a\"],[0.8888888888888888,\"#fdca26\"],[1.0,\"#f0f921\"]],\"type\":\"surface\"}],\"table\":[{\"cells\":{\"fill\":{\"color\":\"#EBF0F8\"},\"line\":{\"color\":\"white\"}},\"header\":{\"fill\":{\"color\":\"#C8D4E3\"},\"line\":{\"color\":\"white\"}},\"type\":\"table\"}]},\"layout\":{\"annotationdefaults\":{\"arrowcolor\":\"#2a3f5f\",\"arrowhead\":0,\"arrowwidth\":1},\"autotypenumbers\":\"strict\",\"coloraxis\":{\"colorbar\":{\"outlinewidth\":0,\"ticks\":\"\"}},\"colorscale\":{\"diverging\":[[0,\"#8e0152\"],[0.1,\"#c51b7d\"],[0.2,\"#de77ae\"],[0.3,\"#f1b6da\"],[0.4,\"#fde0ef\"],[0.5,\"#f7f7f7\"],[0.6,\"#e6f5d0\"],[0.7,\"#b8e186\"],[0.8,\"#7fbc41\"],[0.9,\"#4d9221\"],[1,\"#276419\"]],\"sequential\":[[0.0,\"#0d0887\"],[0.1111111111111111,\"#46039f\"],[0.2222222222222222,\"#7201a8\"],[0.3333333333333333,\"#9c179e\"],[0.4444444444444444,\"#bd3786\"],[0.5555555555555556,\"#d8576b\"],[0.6666666666666666,\"#ed7953\"],[0.7777777777777778,\"#fb9f3a\"],[0.8888888888888888,\"#fdca26\"],[1.0,\"#f0f921\"]],\"sequentialminus\":[[0.0,\"#0d0887\"],[0.1111111111111111,\"#46039f\"],[0.2222222222222222,\"#7201a8\"],[0.3333333333333333,\"#9c179e\"],[0.4444444444444444,\"#bd3786\"],[0.5555555555555556,\"#d8576b\"],[0.6666666666666666,\"#ed7953\"],[0.7777777777777778,\"#fb9f3a\"],[0.8888888888888888,\"#fdca26\"],[1.0,\"#f0f921\"]]},\"colorway\":[\"#636efa\",\"#EF553B\",\"#00cc96\",\"#ab63fa\",\"#FFA15A\",\"#19d3f3\",\"#FF6692\",\"#B6E880\",\"#FF97FF\",\"#FECB52\"],\"font\":{\"color\":\"#2a3f5f\"},\"geo\":{\"bgcolor\":\"white\",\"lakecolor\":\"white\",\"landcolor\":\"#E5ECF6\",\"showlakes\":true,\"showland\":true,\"subunitcolor\":\"white\"},\"hoverlabel\":{\"align\":\"left\"},\"hovermode\":\"closest\",\"mapbox\":{\"style\":\"light\"},\"paper_bgcolor\":\"white\",\"plot_bgcolor\":\"#E5ECF6\",\"polar\":{\"angularaxis\":{\"gridcolor\":\"white\",\"linecolor\":\"white\",\"ticks\":\"\"},\"bgcolor\":\"#E5ECF6\",\"radialaxis\":{\"gridcolor\":\"white\",\"linecolor\":\"white\",\"ticks\":\"\"}},\"scene\":{\"xaxis\":{\"backgroundcolor\":\"#E5ECF6\",\"gridcolor\":\"white\",\"gridwidth\":2,\"linecolor\":\"white\",\"showbackground\":true,\"ticks\":\"\",\"zerolinecolor\":\"white\"},\"yaxis\":{\"backgroundcolor\":\"#E5ECF6\",\"gridcolor\":\"white\",\"gridwidth\":2,\"linecolor\":\"white\",\"showbackground\":true,\"ticks\":\"\",\"zerolinecolor\":\"white\"},\"zaxis\":{\"backgroundcolor\":\"#E5ECF6\",\"gridcolor\":\"white\",\"gridwidth\":2,\"linecolor\":\"white\",\"showbackground\":true,\"ticks\":\"\",\"zerolinecolor\":\"white\"}},\"shapedefaults\":{\"line\":{\"color\":\"#2a3f5f\"}},\"ternary\":{\"aaxis\":{\"gridcolor\":\"white\",\"linecolor\":\"white\",\"ticks\":\"\"},\"baxis\":{\"gridcolor\":\"white\",\"linecolor\":\"white\",\"ticks\":\"\"},\"bgcolor\":\"#E5ECF6\",\"caxis\":{\"gridcolor\":\"white\",\"linecolor\":\"white\",\"ticks\":\"\"}},\"title\":{\"x\":0.05},\"xaxis\":{\"automargin\":true,\"gridcolor\":\"white\",\"linecolor\":\"white\",\"ticks\":\"\",\"title\":{\"standoff\":15},\"zerolinecolor\":\"white\",\"zerolinewidth\":2},\"yaxis\":{\"automargin\":true,\"gridcolor\":\"white\",\"linecolor\":\"white\",\"ticks\":\"\",\"title\":{\"standoff\":15},\"zerolinecolor\":\"white\",\"zerolinewidth\":2}}},\"font\":{\"family\":\"Courier New, monospace\",\"size\":18,\"color\":\"RebeccaPurple\"},\"barmode\":\"group\",\"title\":{\"text\":\"15 Most deadly sharks (most fatal)\"},\"xaxis\":{\"title\":{\"text\":\"Deadliest Shark\"}},\"yaxis\":{\"title\":{\"text\":\"number of deadly occurences\"}}},                        {\"responsive\": true}                    ).then(function(){\n",
              "                            \n",
              "var gd = document.getElementById('89f429e6-cfb3-4c25-8217-404ccac8b36b');\n",
              "var x = new MutationObserver(function (mutations, observer) {{\n",
              "        var display = window.getComputedStyle(gd).display;\n",
              "        if (!display || display === 'none') {{\n",
              "            console.log([gd, 'removed!']);\n",
              "            Plotly.purge(gd);\n",
              "            observer.disconnect();\n",
              "        }}\n",
              "}});\n",
              "\n",
              "// Listen for the removal of the full notebook cells\n",
              "var notebookContainer = gd.closest('#notebook-container');\n",
              "if (notebookContainer) {{\n",
              "    x.observe(notebookContainer, {childList: true});\n",
              "}}\n",
              "\n",
              "// Listen for the clearing of the current output cell\n",
              "var outputEl = gd.closest('.output');\n",
              "if (outputEl) {{\n",
              "    x.observe(outputEl, {childList: true});\n",
              "}}\n",
              "\n",
              "                        })                };                            </script>        </div>\n",
              "</body>\n",
              "</html>"
            ]
          },
          "metadata": {}
        }
      ]
    },
    {
      "cell_type": "code",
      "source": [
        "# Most common time of the attack for fatal injuries\n",
        "import plotly.express as px\n",
        "df = px.data.tips()\n",
        "fig = px.scatter(sapa, x=\"Species \", y=\"Activity\", color=\"Total_count\",\n",
        "                 title=\"70 Most common species attacks per activity\")\n",
        "\n",
        "fig.show()"
      ],
      "metadata": {
        "colab": {
          "base_uri": "https://localhost:8080/",
          "height": 542
        },
        "id": "Id7LAxoHNtCn",
        "outputId": "efdcf5c4-369b-487a-d7cc-c21ba4eef49e"
      },
      "execution_count": null,
      "outputs": [
        {
          "output_type": "display_data",
          "data": {
            "text/html": [
              "<html>\n",
              "<head><meta charset=\"utf-8\" /></head>\n",
              "<body>\n",
              "    <div>            <script src=\"https://cdnjs.cloudflare.com/ajax/libs/mathjax/2.7.5/MathJax.js?config=TeX-AMS-MML_SVG\"></script><script type=\"text/javascript\">if (window.MathJax) {MathJax.Hub.Config({SVG: {font: \"STIX-Web\"}});}</script>                <script type=\"text/javascript\">window.PlotlyConfig = {MathJaxConfig: 'local'};</script>\n",
              "        <script src=\"https://cdn.plot.ly/plotly-2.8.3.min.js\"></script>                <div id=\"369016e3-6281-4480-b77b-91a51a853b54\" class=\"plotly-graph-div\" style=\"height:525px; width:100%;\"></div>            <script type=\"text/javascript\">                                    window.PLOTLYENV=window.PLOTLYENV || {};                                    if (document.getElementById(\"369016e3-6281-4480-b77b-91a51a853b54\")) {                    Plotly.newPlot(                        \"369016e3-6281-4480-b77b-91a51a853b54\",                        [{\"hovertemplate\":\"Species =%{x}<br>Activity=%{y}<br>Total_count=%{marker.color}<extra></extra>\",\"legendgroup\":\"\",\"marker\":{\"color\":[153,58,56,46,37,36,35,27,25,23,21,17,16,14,14,12,12,11,11,10,10,10,9,9,9,9,9,9,9,9,8,8,8,8,8,7,7,7,7,7,7,7,6,6,6,6,6,6,5,5,5,5,5,5,5,5,5,5,5,5,5,4,4,4,4,4,4,4,4,4],\"coloraxis\":\"coloraxis\",\"symbol\":\"circle\"},\"mode\":\"markers\",\"name\":\"\",\"orientation\":\"v\",\"showlegend\":false,\"x\":[\"white shark\",\"white shark\",\"Tiger shark\",\"white shark\",\"white shark\",\"Bull shark\",\"Tiger shark\",\"Bull shark\",\"Bull shark\",\"Tiger shark\",\"white shark\",\"white shark\",\"4' shark\",\"Tiger shark\",\"4' to 5' shark\",\"white shark\",\"Tiger shark\",\"Zambesi shark\",\"5' shark\",\"6' shark\",\"white shark\",\"Bull shark\",\"1.8 m [6'] shark\",\"Tiger shark\",\"Raggedtooth shark\",\"3' shark\",\"2 m shark\",\"small shark\",\"1.2 m [4'] shark\",\"small shark\",\"Raggedtooth shark\",\"white shark\",\"Raggedtooth shark\",\"Wobbegong shark\",\"3' to 4' shark\",\"6' shark\",\"3 m shark\",\"1.2 m [4'] shark\",\"1.2 m to 1.5 m [4' to 5'] shark\",\"white shark\",\"white shark\",\"small shark\",\"Tiger shark\",\"Tiger shark\",\"white shark\",\"Bull shark\",\"white shark\",\"white shark\",\"1.8 m [6'] shark\",\"white shark\",\"white shark\",\"1.5 m [5'] shark\",\"white shark\",\"Zambesi shark\",\"Bull shark\",\"white shark\",\"hammerhead shark\",\"white shark\",\"Raggedtooth shark\",\"white shark\",\"white shark\",\"hammerhead shark\",\"Bull shark\",\"Bull shark\",\"hammerhead shark\",\"3' shark\",\"3 m [10'] shark\",\"white shark\",\"Tiger shark\",\"4' shark\"],\"xaxis\":\"x\",\"y\":[\"Surfing\",\"Swimming\",\"Surfing\",\"Spearfishing\",\"Fishing\",\"Swimming\",\"Swimming\",\"Surfing\",\"Spearfishing\",\"Spearfishing\",\"Kayaking\",\"Body boarding\",\"Surfing\",\"Fishing\",\"Surfing\",\"Scuba diving\",\"Snorkeling\",\"Swimming\",\"Surfing\",\"Surfing\",\"Diving\",\"Fishing\",\"Surfing\",\"Diving\",\"Surfing\",\"Surfing\",\"Surfing\",\"Swimming\",\"Swimming\",\"Surfing\",\"Swimming\",\"Snorkeling\",\"Fishing\",\"Swimming\",\"Surfing\",\"Swimming\",\"Surfing\",\"Surfing\",\"Surfing\",\"Surfing (sitting on his board)\",\"Free diving for abalone\",\"Fishing\",\"Scuba diving\",\"Body boarding\",\"Surf-skiing\",\"Body boarding\",\"Surf skiing\",\"Treading water\",\"Swimming\",\"Kayak Fishing\",\"Shark fishing\",\"Surfing\",\"Boat\",\"Spearfishing\",\"Wading\",\"Diving for abalone\",\"Swimming\",\"Free diving\",\"Spearfishing\",\"Standing\",\"Fishing on a boat\",\"Fishing\",\"Snorkeling\",\"Diving\",\"Spearfishing\",\"Wading\",\"Swimming\",\"Fishing for sharks\",\"Kayaking\",\"Wading\"],\"yaxis\":\"y\",\"type\":\"scatter\"}],                        {\"template\":{\"data\":{\"bar\":[{\"error_x\":{\"color\":\"#2a3f5f\"},\"error_y\":{\"color\":\"#2a3f5f\"},\"marker\":{\"line\":{\"color\":\"#E5ECF6\",\"width\":0.5},\"pattern\":{\"fillmode\":\"overlay\",\"size\":10,\"solidity\":0.2}},\"type\":\"bar\"}],\"barpolar\":[{\"marker\":{\"line\":{\"color\":\"#E5ECF6\",\"width\":0.5},\"pattern\":{\"fillmode\":\"overlay\",\"size\":10,\"solidity\":0.2}},\"type\":\"barpolar\"}],\"carpet\":[{\"aaxis\":{\"endlinecolor\":\"#2a3f5f\",\"gridcolor\":\"white\",\"linecolor\":\"white\",\"minorgridcolor\":\"white\",\"startlinecolor\":\"#2a3f5f\"},\"baxis\":{\"endlinecolor\":\"#2a3f5f\",\"gridcolor\":\"white\",\"linecolor\":\"white\",\"minorgridcolor\":\"white\",\"startlinecolor\":\"#2a3f5f\"},\"type\":\"carpet\"}],\"choropleth\":[{\"colorbar\":{\"outlinewidth\":0,\"ticks\":\"\"},\"type\":\"choropleth\"}],\"contour\":[{\"colorbar\":{\"outlinewidth\":0,\"ticks\":\"\"},\"colorscale\":[[0.0,\"#0d0887\"],[0.1111111111111111,\"#46039f\"],[0.2222222222222222,\"#7201a8\"],[0.3333333333333333,\"#9c179e\"],[0.4444444444444444,\"#bd3786\"],[0.5555555555555556,\"#d8576b\"],[0.6666666666666666,\"#ed7953\"],[0.7777777777777778,\"#fb9f3a\"],[0.8888888888888888,\"#fdca26\"],[1.0,\"#f0f921\"]],\"type\":\"contour\"}],\"contourcarpet\":[{\"colorbar\":{\"outlinewidth\":0,\"ticks\":\"\"},\"type\":\"contourcarpet\"}],\"heatmap\":[{\"colorbar\":{\"outlinewidth\":0,\"ticks\":\"\"},\"colorscale\":[[0.0,\"#0d0887\"],[0.1111111111111111,\"#46039f\"],[0.2222222222222222,\"#7201a8\"],[0.3333333333333333,\"#9c179e\"],[0.4444444444444444,\"#bd3786\"],[0.5555555555555556,\"#d8576b\"],[0.6666666666666666,\"#ed7953\"],[0.7777777777777778,\"#fb9f3a\"],[0.8888888888888888,\"#fdca26\"],[1.0,\"#f0f921\"]],\"type\":\"heatmap\"}],\"heatmapgl\":[{\"colorbar\":{\"outlinewidth\":0,\"ticks\":\"\"},\"colorscale\":[[0.0,\"#0d0887\"],[0.1111111111111111,\"#46039f\"],[0.2222222222222222,\"#7201a8\"],[0.3333333333333333,\"#9c179e\"],[0.4444444444444444,\"#bd3786\"],[0.5555555555555556,\"#d8576b\"],[0.6666666666666666,\"#ed7953\"],[0.7777777777777778,\"#fb9f3a\"],[0.8888888888888888,\"#fdca26\"],[1.0,\"#f0f921\"]],\"type\":\"heatmapgl\"}],\"histogram\":[{\"marker\":{\"pattern\":{\"fillmode\":\"overlay\",\"size\":10,\"solidity\":0.2}},\"type\":\"histogram\"}],\"histogram2d\":[{\"colorbar\":{\"outlinewidth\":0,\"ticks\":\"\"},\"colorscale\":[[0.0,\"#0d0887\"],[0.1111111111111111,\"#46039f\"],[0.2222222222222222,\"#7201a8\"],[0.3333333333333333,\"#9c179e\"],[0.4444444444444444,\"#bd3786\"],[0.5555555555555556,\"#d8576b\"],[0.6666666666666666,\"#ed7953\"],[0.7777777777777778,\"#fb9f3a\"],[0.8888888888888888,\"#fdca26\"],[1.0,\"#f0f921\"]],\"type\":\"histogram2d\"}],\"histogram2dcontour\":[{\"colorbar\":{\"outlinewidth\":0,\"ticks\":\"\"},\"colorscale\":[[0.0,\"#0d0887\"],[0.1111111111111111,\"#46039f\"],[0.2222222222222222,\"#7201a8\"],[0.3333333333333333,\"#9c179e\"],[0.4444444444444444,\"#bd3786\"],[0.5555555555555556,\"#d8576b\"],[0.6666666666666666,\"#ed7953\"],[0.7777777777777778,\"#fb9f3a\"],[0.8888888888888888,\"#fdca26\"],[1.0,\"#f0f921\"]],\"type\":\"histogram2dcontour\"}],\"mesh3d\":[{\"colorbar\":{\"outlinewidth\":0,\"ticks\":\"\"},\"type\":\"mesh3d\"}],\"parcoords\":[{\"line\":{\"colorbar\":{\"outlinewidth\":0,\"ticks\":\"\"}},\"type\":\"parcoords\"}],\"pie\":[{\"automargin\":true,\"type\":\"pie\"}],\"scatter\":[{\"marker\":{\"colorbar\":{\"outlinewidth\":0,\"ticks\":\"\"}},\"type\":\"scatter\"}],\"scatter3d\":[{\"line\":{\"colorbar\":{\"outlinewidth\":0,\"ticks\":\"\"}},\"marker\":{\"colorbar\":{\"outlinewidth\":0,\"ticks\":\"\"}},\"type\":\"scatter3d\"}],\"scattercarpet\":[{\"marker\":{\"colorbar\":{\"outlinewidth\":0,\"ticks\":\"\"}},\"type\":\"scattercarpet\"}],\"scattergeo\":[{\"marker\":{\"colorbar\":{\"outlinewidth\":0,\"ticks\":\"\"}},\"type\":\"scattergeo\"}],\"scattergl\":[{\"marker\":{\"colorbar\":{\"outlinewidth\":0,\"ticks\":\"\"}},\"type\":\"scattergl\"}],\"scattermapbox\":[{\"marker\":{\"colorbar\":{\"outlinewidth\":0,\"ticks\":\"\"}},\"type\":\"scattermapbox\"}],\"scatterpolar\":[{\"marker\":{\"colorbar\":{\"outlinewidth\":0,\"ticks\":\"\"}},\"type\":\"scatterpolar\"}],\"scatterpolargl\":[{\"marker\":{\"colorbar\":{\"outlinewidth\":0,\"ticks\":\"\"}},\"type\":\"scatterpolargl\"}],\"scatterternary\":[{\"marker\":{\"colorbar\":{\"outlinewidth\":0,\"ticks\":\"\"}},\"type\":\"scatterternary\"}],\"surface\":[{\"colorbar\":{\"outlinewidth\":0,\"ticks\":\"\"},\"colorscale\":[[0.0,\"#0d0887\"],[0.1111111111111111,\"#46039f\"],[0.2222222222222222,\"#7201a8\"],[0.3333333333333333,\"#9c179e\"],[0.4444444444444444,\"#bd3786\"],[0.5555555555555556,\"#d8576b\"],[0.6666666666666666,\"#ed7953\"],[0.7777777777777778,\"#fb9f3a\"],[0.8888888888888888,\"#fdca26\"],[1.0,\"#f0f921\"]],\"type\":\"surface\"}],\"table\":[{\"cells\":{\"fill\":{\"color\":\"#EBF0F8\"},\"line\":{\"color\":\"white\"}},\"header\":{\"fill\":{\"color\":\"#C8D4E3\"},\"line\":{\"color\":\"white\"}},\"type\":\"table\"}]},\"layout\":{\"annotationdefaults\":{\"arrowcolor\":\"#2a3f5f\",\"arrowhead\":0,\"arrowwidth\":1},\"autotypenumbers\":\"strict\",\"coloraxis\":{\"colorbar\":{\"outlinewidth\":0,\"ticks\":\"\"}},\"colorscale\":{\"diverging\":[[0,\"#8e0152\"],[0.1,\"#c51b7d\"],[0.2,\"#de77ae\"],[0.3,\"#f1b6da\"],[0.4,\"#fde0ef\"],[0.5,\"#f7f7f7\"],[0.6,\"#e6f5d0\"],[0.7,\"#b8e186\"],[0.8,\"#7fbc41\"],[0.9,\"#4d9221\"],[1,\"#276419\"]],\"sequential\":[[0.0,\"#0d0887\"],[0.1111111111111111,\"#46039f\"],[0.2222222222222222,\"#7201a8\"],[0.3333333333333333,\"#9c179e\"],[0.4444444444444444,\"#bd3786\"],[0.5555555555555556,\"#d8576b\"],[0.6666666666666666,\"#ed7953\"],[0.7777777777777778,\"#fb9f3a\"],[0.8888888888888888,\"#fdca26\"],[1.0,\"#f0f921\"]],\"sequentialminus\":[[0.0,\"#0d0887\"],[0.1111111111111111,\"#46039f\"],[0.2222222222222222,\"#7201a8\"],[0.3333333333333333,\"#9c179e\"],[0.4444444444444444,\"#bd3786\"],[0.5555555555555556,\"#d8576b\"],[0.6666666666666666,\"#ed7953\"],[0.7777777777777778,\"#fb9f3a\"],[0.8888888888888888,\"#fdca26\"],[1.0,\"#f0f921\"]]},\"colorway\":[\"#636efa\",\"#EF553B\",\"#00cc96\",\"#ab63fa\",\"#FFA15A\",\"#19d3f3\",\"#FF6692\",\"#B6E880\",\"#FF97FF\",\"#FECB52\"],\"font\":{\"color\":\"#2a3f5f\"},\"geo\":{\"bgcolor\":\"white\",\"lakecolor\":\"white\",\"landcolor\":\"#E5ECF6\",\"showlakes\":true,\"showland\":true,\"subunitcolor\":\"white\"},\"hoverlabel\":{\"align\":\"left\"},\"hovermode\":\"closest\",\"mapbox\":{\"style\":\"light\"},\"paper_bgcolor\":\"white\",\"plot_bgcolor\":\"#E5ECF6\",\"polar\":{\"angularaxis\":{\"gridcolor\":\"white\",\"linecolor\":\"white\",\"ticks\":\"\"},\"bgcolor\":\"#E5ECF6\",\"radialaxis\":{\"gridcolor\":\"white\",\"linecolor\":\"white\",\"ticks\":\"\"}},\"scene\":{\"xaxis\":{\"backgroundcolor\":\"#E5ECF6\",\"gridcolor\":\"white\",\"gridwidth\":2,\"linecolor\":\"white\",\"showbackground\":true,\"ticks\":\"\",\"zerolinecolor\":\"white\"},\"yaxis\":{\"backgroundcolor\":\"#E5ECF6\",\"gridcolor\":\"white\",\"gridwidth\":2,\"linecolor\":\"white\",\"showbackground\":true,\"ticks\":\"\",\"zerolinecolor\":\"white\"},\"zaxis\":{\"backgroundcolor\":\"#E5ECF6\",\"gridcolor\":\"white\",\"gridwidth\":2,\"linecolor\":\"white\",\"showbackground\":true,\"ticks\":\"\",\"zerolinecolor\":\"white\"}},\"shapedefaults\":{\"line\":{\"color\":\"#2a3f5f\"}},\"ternary\":{\"aaxis\":{\"gridcolor\":\"white\",\"linecolor\":\"white\",\"ticks\":\"\"},\"baxis\":{\"gridcolor\":\"white\",\"linecolor\":\"white\",\"ticks\":\"\"},\"bgcolor\":\"#E5ECF6\",\"caxis\":{\"gridcolor\":\"white\",\"linecolor\":\"white\",\"ticks\":\"\"}},\"title\":{\"x\":0.05},\"xaxis\":{\"automargin\":true,\"gridcolor\":\"white\",\"linecolor\":\"white\",\"ticks\":\"\",\"title\":{\"standoff\":15},\"zerolinecolor\":\"white\",\"zerolinewidth\":2},\"yaxis\":{\"automargin\":true,\"gridcolor\":\"white\",\"linecolor\":\"white\",\"ticks\":\"\",\"title\":{\"standoff\":15},\"zerolinecolor\":\"white\",\"zerolinewidth\":2}}},\"xaxis\":{\"anchor\":\"y\",\"domain\":[0.0,1.0],\"title\":{\"text\":\"Species \"}},\"yaxis\":{\"anchor\":\"x\",\"domain\":[0.0,1.0],\"title\":{\"text\":\"Activity\"}},\"coloraxis\":{\"colorbar\":{\"title\":{\"text\":\"Total_count\"}},\"colorscale\":[[0.0,\"#0d0887\"],[0.1111111111111111,\"#46039f\"],[0.2222222222222222,\"#7201a8\"],[0.3333333333333333,\"#9c179e\"],[0.4444444444444444,\"#bd3786\"],[0.5555555555555556,\"#d8576b\"],[0.6666666666666666,\"#ed7953\"],[0.7777777777777778,\"#fb9f3a\"],[0.8888888888888888,\"#fdca26\"],[1.0,\"#f0f921\"]]},\"legend\":{\"tracegroupgap\":0},\"title\":{\"text\":\"70 Most common species attacks per activity\"}},                        {\"responsive\": true}                    ).then(function(){\n",
              "                            \n",
              "var gd = document.getElementById('369016e3-6281-4480-b77b-91a51a853b54');\n",
              "var x = new MutationObserver(function (mutations, observer) {{\n",
              "        var display = window.getComputedStyle(gd).display;\n",
              "        if (!display || display === 'none') {{\n",
              "            console.log([gd, 'removed!']);\n",
              "            Plotly.purge(gd);\n",
              "            observer.disconnect();\n",
              "        }}\n",
              "}});\n",
              "\n",
              "// Listen for the removal of the full notebook cells\n",
              "var notebookContainer = gd.closest('#notebook-container');\n",
              "if (notebookContainer) {{\n",
              "    x.observe(notebookContainer, {childList: true});\n",
              "}}\n",
              "\n",
              "// Listen for the clearing of the current output cell\n",
              "var outputEl = gd.closest('.output');\n",
              "if (outputEl) {{\n",
              "    x.observe(outputEl, {childList: true});\n",
              "}}\n",
              "\n",
              "                        })                };                            </script>        </div>\n",
              "</body>\n",
              "</html>"
            ]
          },
          "metadata": {}
        }
      ]
    }
  ]
}